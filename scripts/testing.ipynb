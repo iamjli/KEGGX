{
 "cells": [
  {
   "cell_type": "code",
   "execution_count": 1,
   "metadata": {},
   "outputs": [
    {
     "name": "stdout",
     "output_type": "stream",
     "text": [
      "                                         aliases first_name  \\\n",
      "id                                                            \n",
      "1                          F2, PT, RPRGL2, THPH1         F2   \n",
      "7              TMSB4X, FX, PTMB4, TB4X, TMSB4...     TMSB4X   \n",
      "8            ARPC5, ARC16, dJ127C7.3, p16-Arc...      ARPC5   \n",
      "9                                        PFN3...       PFN3   \n",
      "10  WASF2, IMD2, SCAR2, WASF4, WAVE2, dJ393P12.2      WASF2   \n",
      "\n",
      "                                             hsa_tags  type  \n",
      "id                                                           \n",
      "1                                            hsa:2147  gene  \n",
      "7                                   hsa:7114 hsa:9087  gene  \n",
      "8   hsa:10092 hsa:10093 hsa:10094 hsa:10095 hsa:10...  gene  \n",
      "9             hsa:345456 hsa:375189 hsa:5216 hsa:5217  gene  \n",
      "10                                          hsa:10163  gene  \n",
      "3 members in group 84. 7 edges added.\n",
      "2 members in group 85. 3 edges added.\n",
      "3 members in group 86. 9 edges added.\n",
      "   activation  glycosylation  methylation  node1  node2  oriented  \\\n",
      "0          -1            0.0          0.0     45     16         1   \n",
      "1          -1            0.0          0.0     45     17         1   \n",
      "2          -1            0.0          0.0     45     18         1   \n",
      "3          -1            0.0          0.0     16     11         1   \n",
      "4          -1            0.0          0.0     17     11         1   \n",
      "\n",
      "   phosphorylation   type  ubiquitination  \n",
      "0              0.0  PPrel             0.0  \n",
      "1              0.0  PPrel             0.0  \n",
      "2              0.0  PPrel             0.0  \n",
      "3              0.0  PPrel             0.0  \n",
      "4              0.0  PPrel             0.0  \n"
     ]
    }
   ],
   "source": [
    "import sys\n",
    "\n",
    "sys.path.insert(0, \"../src/\")\n",
    "\n",
    "from KEGGeractome import *"
   ]
  },
  {
   "cell_type": "code",
   "execution_count": 2,
   "metadata": {},
   "outputs": [
    {
     "name": "stdout",
     "output_type": "stream",
     "text": [
      "                                         aliases first_name  \\\n",
      "id                                                            \n",
      "1                          F2, PT, RPRGL2, THPH1         F2   \n",
      "7              TMSB4X, FX, PTMB4, TB4X, TMSB4...     TMSB4X   \n",
      "8            ARPC5, ARC16, dJ127C7.3, p16-Arc...      ARPC5   \n",
      "9                                        PFN3...       PFN3   \n",
      "10  WASF2, IMD2, SCAR2, WASF4, WAVE2, dJ393P12.2      WASF2   \n",
      "\n",
      "                                             hsa_tags  type  \n",
      "id                                                           \n",
      "1                                            hsa:2147  gene  \n",
      "7                                   hsa:7114 hsa:9087  gene  \n",
      "8   hsa:10092 hsa:10093 hsa:10094 hsa:10095 hsa:10...  gene  \n",
      "9             hsa:345456 hsa:375189 hsa:5216 hsa:5217  gene  \n",
      "10                                          hsa:10163  gene  \n",
      "3 members in group 84. 7 edges added.\n",
      "2 members in group 85. 3 edges added.\n",
      "3 members in group 86. 9 edges added.\n",
      "   activation  glycosylation  methylation  node1  node2  oriented  \\\n",
      "0          -1            0.0          0.0     45     16         1   \n",
      "1          -1            0.0          0.0     45     17         1   \n",
      "2          -1            0.0          0.0     45     18         1   \n",
      "3          -1            0.0          0.0     16     11         1   \n",
      "4          -1            0.0          0.0     17     11         1   \n",
      "\n",
      "   phosphorylation   type  ubiquitination  \n",
      "0              0.0  PPrel             0.0  \n",
      "1              0.0  PPrel             0.0  \n",
      "2              0.0  PPrel             0.0  \n",
      "3              0.0  PPrel             0.0  \n",
      "4              0.0  PPrel             0.0  \n"
     ]
    }
   ],
   "source": [
    "graph = KEGGeractome(\"../data/human_KGML/hsa04810.xml\")"
   ]
  },
  {
   "cell_type": "code",
   "execution_count": 3,
   "metadata": {},
   "outputs": [
    {
     "data": {
      "text/plain": [
       "[{'type': 'group', 'id': 84, 'components': [59, 60, 61]},\n",
       " {'type': 'group', 'id': 85, 'components': [11, 12]},\n",
       " {'type': 'group', 'id': 86, 'components': [16, 17, 18]}]"
      ]
     },
     "execution_count": 3,
     "metadata": {},
     "output_type": "execute_result"
    }
   ],
   "source": [
    "graph.complex_attributes"
   ]
  },
  {
   "cell_type": "code",
   "execution_count": null,
   "metadata": {},
   "outputs": [],
   "source": []
  },
  {
   "cell_type": "code",
   "execution_count": null,
   "metadata": {},
   "outputs": [],
   "source": []
  }
 ],
 "metadata": {
  "kernelspec": {
   "display_name": "Python 3",
   "language": "python",
   "name": "python3"
  },
  "language_info": {
   "codemirror_mode": {
    "name": "ipython",
    "version": 3
   },
   "file_extension": ".py",
   "mimetype": "text/x-python",
   "name": "python",
   "nbconvert_exporter": "python",
   "pygments_lexer": "ipython3",
   "version": "3.6.5"
  }
 },
 "nbformat": 4,
 "nbformat_minor": 2
}
