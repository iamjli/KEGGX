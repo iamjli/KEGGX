{
 "cells": [
  {
   "cell_type": "code",
   "execution_count": 1,
   "metadata": {},
   "outputs": [
    {
     "name": "stdout",
     "output_type": "stream",
     "text": [
      "3 members in group 84. 7 edges added.\n",
      "2 members in group 85. 3 edges added.\n",
      "3 members in group 86. 9 edges added.\n",
      "   activation  glycosylation  methylation  node1  node2  oriented  \\\n",
      "0          -1            0.0          0.0     45     16         1   \n",
      "1          -1            0.0          0.0     45     17         1   \n",
      "2          -1            0.0          0.0     45     18         1   \n",
      "3          -1            0.0          0.0     16     11         1   \n",
      "4          -1            0.0          0.0     17     11         1   \n",
      "\n",
      "   phosphorylation   type  ubiquitination  \n",
      "0              0.0  PPrel             0.0  \n",
      "1              0.0  PPrel             0.0  \n",
      "2              0.0  PPrel             0.0  \n",
      "3              0.0  PPrel             0.0  \n",
      "4              0.0  PPrel             0.0  \n"
     ]
    }
   ],
   "source": [
    "import sys\n",
    "\n",
    "sys.path.insert(0, \"../src/\")\n",
    "\n",
    "from KEGGeractome import *"
   ]
  },
  {
   "cell_type": "code",
   "execution_count": 2,
   "metadata": {},
   "outputs": [
    {
     "name": "stdout",
     "output_type": "stream",
     "text": [
      "3 members in group 84. 7 edges added.\n",
      "2 members in group 85. 3 edges added.\n",
      "3 members in group 86. 9 edges added.\n",
      "   activation  glycosylation  methylation  node1  node2  oriented  \\\n",
      "0          -1            0.0          0.0     45     16         1   \n",
      "1          -1            0.0          0.0     45     17         1   \n",
      "2          -1            0.0          0.0     45     18         1   \n",
      "3          -1            0.0          0.0     16     11         1   \n",
      "4          -1            0.0          0.0     17     11         1   \n",
      "\n",
      "   phosphorylation   type  ubiquitination  \n",
      "0              0.0  PPrel             0.0  \n",
      "1              0.0  PPrel             0.0  \n",
      "2              0.0  PPrel             0.0  \n",
      "3              0.0  PPrel             0.0  \n",
      "4              0.0  PPrel             0.0  \n"
     ]
    }
   ],
   "source": [
    "pathway = KEGGeractome(\"../data/human_KGML/hsa04810.xml\")"
   ]
  },
  {
   "cell_type": "code",
   "execution_count": 3,
   "metadata": {},
   "outputs": [
    {
     "data": {
      "text/plain": [
       "NodeView(('F2', 'TMSB4X', 'ARPC5', 'PFN3', 'WASF2', 'WASF1', 'BRK1', 'APC2', 'WAS', 'SPATA13', 'ABI2', 'NCKAP1', 'CYFIP1', 'BAIAP2', 'SSH1', 'CFL1', 'LIMK1', 'GSN', 'VCL', 'PIKFYVE', 'DIAPH1', 'ACTN4', 'MSN', 'PXN', 'SLC9A1', 'PPP1R12A', 'MYL12B', 'MYLK4', 'GIT1', 'ENAH', 'DIAPH3', 'ROCK1', 'PAK4', 'ARHGEF7', 'CDC42', 'RAC1', 'RHOA', 'ARHGEF12', 'IQGAP2', 'ARHGAP35', 'VAV3', 'MAPK1', 'MAP2K1', 'ARAF', 'PIK3CA', 'ARHGEF6', 'DOCK1', 'FGD1', 'GNG12', 'CRK', 'BCAR1', 'PTK2', 'CHRM1', 'SRC', 'ITGA11', 'FN1', 'RRAS2', 'GNA13', 'SOS1', 'EGFR', 'EGF', 'INS', 'F2R', 'ACTB', 'MYH9'))"
      ]
     },
     "execution_count": 3,
     "metadata": {},
     "output_type": "execute_result"
    }
   ],
   "source": [
    "pathway.graph.nodes()"
   ]
  },
  {
   "cell_type": "code",
   "execution_count": 4,
   "metadata": {},
   "outputs": [
    {
     "data": {
      "text/plain": [
       "EdgeView([('TMSB4X', 'ACTB'), ('ARPC5', 'WAS'), ('ARPC5', 'ACTB'), ('ARPC5', 'WASF2'), ('ARPC5', 'WASF1'), ('ARPC5', 'BRK1'), ('PFN3', 'DIAPH1'), ('PFN3', 'ACTB'), ('WASF2', 'BAIAP2'), ('WASF1', 'BRK1'), ('WASF1', 'ABI2'), ('WASF1', 'NCKAP1'), ('WASF1', 'CYFIP1'), ('BRK1', 'ABI2'), ('BRK1', 'NCKAP1'), ('BRK1', 'CYFIP1'), ('APC2', 'SPATA13'), ('WAS', 'CDC42'), ('SPATA13', 'RAC1'), ('ABI2', 'NCKAP1'), ('ABI2', 'CYFIP1'), ('ABI2', 'RAC1'), ('NCKAP1', 'CYFIP1'), ('NCKAP1', 'RAC1'), ('CYFIP1', 'RAC1'), ('BAIAP2', 'ENAH'), ('BAIAP2', 'DIAPH3'), ('BAIAP2', 'RAC1'), ('SSH1', 'CFL1'), ('CFL1', 'LIMK1'), ('CFL1', 'ACTB'), ('LIMK1', 'ROCK1'), ('LIMK1', 'PAK4'), ('GSN', 'PIKFYVE'), ('VCL', 'PIKFYVE'), ('PIKFYVE', 'ACTN4'), ('PIKFYVE', 'ROCK1'), ('DIAPH1', 'RHOA'), ('MSN', 'SLC9A1'), ('PXN', 'GIT1'), ('SLC9A1', 'ROCK1'), ('PPP1R12A', 'MYL12B'), ('PPP1R12A', 'ROCK1'), ('MYL12B', 'MYLK4'), ('MYL12B', 'ROCK1'), ('MYL12B', 'MYH9'), ('MYLK4', 'PAK4'), ('GIT1', 'ARHGEF7'), ('DIAPH3', 'CDC42'), ('ROCK1', 'RHOA'), ('ROCK1', 'MAPK1'), ('PAK4', 'ARHGEF7'), ('PAK4', 'CDC42'), ('PAK4', 'RAC1'), ('PAK4', 'GNG12'), ('ARHGEF7', 'RAC1'), ('ARHGEF7', 'ARHGEF12'), ('CDC42', 'IQGAP2'), ('CDC42', 'FGD1'), ('RAC1', 'RHOA'), ('RAC1', 'IQGAP2'), ('RAC1', 'VAV3'), ('RAC1', 'ARHGEF6'), ('RAC1', 'DOCK1'), ('RHOA', 'ARHGEF12'), ('RHOA', 'ARHGAP35'), ('ARHGEF12', 'GNA13'), ('ARHGAP35', 'SRC'), ('VAV3', 'PIK3CA'), ('MAPK1', 'MAP2K1'), ('MAP2K1', 'ARAF'), ('ARAF', 'RRAS2'), ('PIK3CA', 'RRAS2'), ('ARHGEF6', 'RRAS2'), ('DOCK1', 'CRK'), ('DOCK1', 'BCAR1'), ('DOCK1', 'PTK2'), ('FGD1', 'GNG12'), ('GNG12', 'CHRM1'), ('CRK', 'BCAR1'), ('CRK', 'PTK2'), ('CRK', 'ITGA11'), ('BCAR1', 'PTK2'), ('BCAR1', 'ITGA11'), ('PTK2', 'ITGA11'), ('SRC', 'ITGA11'), ('RRAS2', 'SOS1'), ('GNA13', 'F2R'), ('SOS1', 'EGFR'), ('ACTB', 'MYH9')])"
      ]
     },
     "execution_count": 4,
     "metadata": {},
     "output_type": "execute_result"
    }
   ],
   "source": [
    "pathway.graph.edges()"
   ]
  },
  {
   "cell_type": "code",
   "execution_count": 5,
   "metadata": {},
   "outputs": [
    {
     "data": {
      "text/html": [
       "<div>\n",
       "<style scoped>\n",
       "    .dataframe tbody tr th:only-of-type {\n",
       "        vertical-align: middle;\n",
       "    }\n",
       "\n",
       "    .dataframe tbody tr th {\n",
       "        vertical-align: top;\n",
       "    }\n",
       "\n",
       "    .dataframe thead th {\n",
       "        text-align: right;\n",
       "    }\n",
       "</style>\n",
       "<table border=\"1\" class=\"dataframe\">\n",
       "  <thead>\n",
       "    <tr style=\"text-align: right;\">\n",
       "      <th></th>\n",
       "      <th>aliases</th>\n",
       "      <th>first_name</th>\n",
       "      <th>hsa_tags</th>\n",
       "      <th>type</th>\n",
       "    </tr>\n",
       "    <tr>\n",
       "      <th>id</th>\n",
       "      <th></th>\n",
       "      <th></th>\n",
       "      <th></th>\n",
       "      <th></th>\n",
       "    </tr>\n",
       "  </thead>\n",
       "  <tbody>\n",
       "    <tr>\n",
       "      <th>1</th>\n",
       "      <td>F2, PT, RPRGL2, THPH1</td>\n",
       "      <td>F2</td>\n",
       "      <td>hsa:2147</td>\n",
       "      <td>gene</td>\n",
       "    </tr>\n",
       "    <tr>\n",
       "      <th>7</th>\n",
       "      <td>TMSB4X, FX, PTMB4, TB4X, TMSB4...</td>\n",
       "      <td>TMSB4X</td>\n",
       "      <td>hsa:7114 hsa:9087</td>\n",
       "      <td>gene</td>\n",
       "    </tr>\n",
       "    <tr>\n",
       "      <th>8</th>\n",
       "      <td>ARPC5, ARC16, dJ127C7.3, p16-Arc...</td>\n",
       "      <td>ARPC5</td>\n",
       "      <td>hsa:10092 hsa:10093 hsa:10094 hsa:10095 hsa:10...</td>\n",
       "      <td>gene</td>\n",
       "    </tr>\n",
       "    <tr>\n",
       "      <th>9</th>\n",
       "      <td>PFN3...</td>\n",
       "      <td>PFN3</td>\n",
       "      <td>hsa:345456 hsa:375189 hsa:5216 hsa:5217</td>\n",
       "      <td>gene</td>\n",
       "    </tr>\n",
       "    <tr>\n",
       "      <th>10</th>\n",
       "      <td>WASF2, IMD2, SCAR2, WASF4, WAVE2, dJ393P12.2</td>\n",
       "      <td>WASF2</td>\n",
       "      <td>hsa:10163</td>\n",
       "      <td>gene</td>\n",
       "    </tr>\n",
       "  </tbody>\n",
       "</table>\n",
       "</div>"
      ],
      "text/plain": [
       "                                         aliases first_name  \\\n",
       "id                                                            \n",
       "1                          F2, PT, RPRGL2, THPH1         F2   \n",
       "7              TMSB4X, FX, PTMB4, TB4X, TMSB4...     TMSB4X   \n",
       "8            ARPC5, ARC16, dJ127C7.3, p16-Arc...      ARPC5   \n",
       "9                                        PFN3...       PFN3   \n",
       "10  WASF2, IMD2, SCAR2, WASF4, WAVE2, dJ393P12.2      WASF2   \n",
       "\n",
       "                                             hsa_tags  type  \n",
       "id                                                           \n",
       "1                                            hsa:2147  gene  \n",
       "7                                   hsa:7114 hsa:9087  gene  \n",
       "8   hsa:10092 hsa:10093 hsa:10094 hsa:10095 hsa:10...  gene  \n",
       "9             hsa:345456 hsa:375189 hsa:5216 hsa:5217  gene  \n",
       "10                                          hsa:10163  gene  "
      ]
     },
     "execution_count": 5,
     "metadata": {},
     "output_type": "execute_result"
    }
   ],
   "source": [
    "pathway.node_attributes_df.head()"
   ]
  },
  {
   "cell_type": "code",
   "execution_count": 6,
   "metadata": {},
   "outputs": [
    {
     "data": {
      "text/html": [
       "<div>\n",
       "<style scoped>\n",
       "    .dataframe tbody tr th:only-of-type {\n",
       "        vertical-align: middle;\n",
       "    }\n",
       "\n",
       "    .dataframe tbody tr th {\n",
       "        vertical-align: top;\n",
       "    }\n",
       "\n",
       "    .dataframe thead th {\n",
       "        text-align: right;\n",
       "    }\n",
       "</style>\n",
       "<table border=\"1\" class=\"dataframe\">\n",
       "  <thead>\n",
       "    <tr style=\"text-align: right;\">\n",
       "      <th></th>\n",
       "      <th>activation</th>\n",
       "      <th>glycosylation</th>\n",
       "      <th>methylation</th>\n",
       "      <th>node1</th>\n",
       "      <th>node2</th>\n",
       "      <th>oriented</th>\n",
       "      <th>phosphorylation</th>\n",
       "      <th>type</th>\n",
       "      <th>ubiquitination</th>\n",
       "    </tr>\n",
       "  </thead>\n",
       "  <tbody>\n",
       "    <tr>\n",
       "      <th>0</th>\n",
       "      <td>-1</td>\n",
       "      <td>0.0</td>\n",
       "      <td>0.0</td>\n",
       "      <td>45</td>\n",
       "      <td>16</td>\n",
       "      <td>1</td>\n",
       "      <td>0.0</td>\n",
       "      <td>PPrel</td>\n",
       "      <td>0.0</td>\n",
       "    </tr>\n",
       "    <tr>\n",
       "      <th>1</th>\n",
       "      <td>-1</td>\n",
       "      <td>0.0</td>\n",
       "      <td>0.0</td>\n",
       "      <td>45</td>\n",
       "      <td>17</td>\n",
       "      <td>1</td>\n",
       "      <td>0.0</td>\n",
       "      <td>PPrel</td>\n",
       "      <td>0.0</td>\n",
       "    </tr>\n",
       "    <tr>\n",
       "      <th>2</th>\n",
       "      <td>-1</td>\n",
       "      <td>0.0</td>\n",
       "      <td>0.0</td>\n",
       "      <td>45</td>\n",
       "      <td>18</td>\n",
       "      <td>1</td>\n",
       "      <td>0.0</td>\n",
       "      <td>PPrel</td>\n",
       "      <td>0.0</td>\n",
       "    </tr>\n",
       "    <tr>\n",
       "      <th>3</th>\n",
       "      <td>-1</td>\n",
       "      <td>0.0</td>\n",
       "      <td>0.0</td>\n",
       "      <td>16</td>\n",
       "      <td>11</td>\n",
       "      <td>1</td>\n",
       "      <td>0.0</td>\n",
       "      <td>PPrel</td>\n",
       "      <td>0.0</td>\n",
       "    </tr>\n",
       "    <tr>\n",
       "      <th>4</th>\n",
       "      <td>-1</td>\n",
       "      <td>0.0</td>\n",
       "      <td>0.0</td>\n",
       "      <td>17</td>\n",
       "      <td>11</td>\n",
       "      <td>1</td>\n",
       "      <td>0.0</td>\n",
       "      <td>PPrel</td>\n",
       "      <td>0.0</td>\n",
       "    </tr>\n",
       "  </tbody>\n",
       "</table>\n",
       "</div>"
      ],
      "text/plain": [
       "   activation  glycosylation  methylation  node1  node2  oriented  \\\n",
       "0          -1            0.0          0.0     45     16         1   \n",
       "1          -1            0.0          0.0     45     17         1   \n",
       "2          -1            0.0          0.0     45     18         1   \n",
       "3          -1            0.0          0.0     16     11         1   \n",
       "4          -1            0.0          0.0     17     11         1   \n",
       "\n",
       "   phosphorylation   type  ubiquitination  \n",
       "0              0.0  PPrel             0.0  \n",
       "1              0.0  PPrel             0.0  \n",
       "2              0.0  PPrel             0.0  \n",
       "3              0.0  PPrel             0.0  \n",
       "4              0.0  PPrel             0.0  "
      ]
     },
     "execution_count": 6,
     "metadata": {},
     "output_type": "execute_result"
    }
   ],
   "source": [
    "pathway.edge_attributes_df.head()"
   ]
  },
  {
   "cell_type": "code",
   "execution_count": 7,
   "metadata": {},
   "outputs": [],
   "source": [
    "proteins = [\"ACTA2\",\"ACTG2\",\"ACTN1\",\"ACTN2\",\"AKAP8\",\"ALAS1\",\"ALB\",\"ALDH1B1\",\"ALDH9A1\",\"ANP32A\",\"ANXA2\",\"APOE\",\"ARHGAP12\",\"ARHGEF11\",\"ARIH2\",\"ASH2L\",\"ATF2\",\"ATF3\",\"ATF7\",\"ATM\",\"ATP7A\",\"BACH2\",\"BATF\",\"BDH2\",\"BGN\",\"BMP1\",\"BRCC3\",\"C1ORF94\",\"C3ORF62\",\"CA2\",\"CACYBP\",\"CALD1\",\"CAPN5\",\"CAT\",\"CAV1\",\"CBX1\",\"CBX3\",\"CBX5\",\"CCDC25\",\"CCNE1\",\"CD99\",\"CDC26\",\"CDC27\",\"CDK5\",\"CDK5R1\",\"CFL1\",\"CHD2\",\"CKAP2\",\"CKB\",\"CLIP1\",\"CLU\",\"CNDP2\",\"CNN1\",\"CNN2\",\"COL12A1\",\"COL18A1\",\"COL1A1\",\"COL1A2\",\"COL26A1\",\"COL8A1\",\"CPNE2\",\"CRABP1\",\"CRKL\",\"CROT\",\"CRYAB\",\"CTGF\",\"CWC22\",\"DBI\",\"DCX\",\"DDX39B\",\"DEK\",\"DERL1\",\"DERL2\",\"DES\",\"DNM2\",\"DPYSL2\",\"DPYSL3\",\"DTX2\",\"DYNLL1\",\"DYSF\",\"EBF1\",\"EDIL3\",\"EFNB3\",\"EHHADH\",\"EIF1B\",\"ELF1\",\"EMILIN1\",\"ENY2\",\"EPDR1\",\"EPHB3\",\"ESYT2\",\"ETS1\",\"EZR\",\"FAHD2A\",\"FAM175B\",\"FAM53C\",\"FBLN1\",\"FBLN2\",\"FBN1\",\"FBN2\",\"FBXO18\",\"FHL1\",\"FHL2\",\"FHL3\",\"FKBP3\",\"FKBP7\",\"FN1\",\"FOSL1\",\"FOSL2\",\"FOXA1\",\"FOXO1\",\"FUBP1\",\"FUS\",\"FZR1\",\"GAB1\",\"GABPA\",\"GDF15\",\"GDI1\",\"GFAP\",\"GGA1\",\"GLS\",\"GLUD1\",\"GMCL1\",\"GNAI2\",\"GNAI3\",\"GNAO1\",\"GNB1\",\"GNB3\",\"GNG12\",\"GNG2\",\"GNG4\",\"GOPC\",\"GORASP1\",\"GORASP2\",\"GPM6A\",\"GRN\",\"HDGF\",\"HIST1H1B\",\"HIST2H2AB\",\"HMGB1\",\"HMGB2\",\"HNF1A\",\"HNRNPA1\",\"HNRNPA2B1\",\"HNRNPK\",\"HNRNPR\",\"HNRNPU\",\"HOXA5\",\"HPCAL1\",\"HSPA2\",\"HSPG2\",\"HTRA1\",\"IGFBP7\",\"ING5\",\"ITGA5\",\"ITGAV\",\"JAM2\",\"JUN\",\"JUNB\",\"KCNA5\",\"KCNK3\",\"KCNN3\",\"KEAP1\",\"KRT18\",\"KRT8\",\"KRTAP9-2\",\"LAIR2\",\"LAMA1\",\"LAMB1\",\"LAMC1\",\"LDLR\",\"LGALS1\",\"LGALS3BP\",\"LIMK1\",\"LMNA\",\"LOC102724652\",\"LSM3\",\"LSM5\",\"LSM6\",\"LSM7\",\"LSM8\",\"LTBP1\",\"MAFK\",\"MAOB\",\"MAP1B\",\"MAP2\",\"MAPRE1\",\"MAZ\",\"MDFI\",\"MDK\",\"MEIS2\",\"MFAP2\",\"MFAP4\",\"MFGE8\",\"MLH1\",\"MMP14\",\"MPP3\",\"MPRIP\",\"MXRA5\",\"MYH11\",\"MYH9\",\"MYL4\",\"MYLK\",\"MYO1C\",\"MYO7A\",\"NAPRT\",\"NCL\",\"NES\",\"NF1\",\"NFE2\",\"NFE2L2\",\"NID2\",\"NIPBL\",\"NME3\",\"NUDT3\",\"P4HA2\",\"PAFAH1B1\",\"PAICS\",\"PARK7\",\"PARP1\",\"PAWR\",\"PAX7\",\"PCBD1\",\"PCSK9\",\"PDGFB\",\"PDGFRA\",\"PDGFRB\",\"PDLIM7\",\"PEA15\",\"PEBP1\",\"PFDN4\",\"PGK2\",\"PGLS\",\"PIN4\",\"PINK1\",\"PLD1\",\"PLD3\",\"PLOD2\",\"PLTP\",\"PLXNB1\",\"POLD1\",\"POSTN\",\"POU3F1\",\"POU3F3\",\"PPIA\",\"PPIC\",\"PPP1CC\",\"PPP2CA\",\"PPP3R1\",\"PPT1\",\"PRCP\",\"PRDX1\",\"PRDX2\",\"PRDX6\",\"PRPH\",\"PSIP1\",\"PSMB2\",\"PTGES3\",\"PTMS\",\"PTPRZ1\",\"PYCR1\",\"RAB11FIP2\",\"RAB25\",\"RAB4A\",\"RABEP1\",\"RAD23B\",\"RALGPS2\",\"RANBP6\",\"RB1\",\"RBBP9\",\"RBMX\",\"RDX\",\"REL\",\"RFX1\",\"RFX2\",\"RFX5\",\"RFX6\",\"RGS19\",\"RHOA\",\"RPL26\",\"RRBP1\",\"RUFY1\",\"RUNX2\",\"S100A1\",\"S100A10\",\"S100A11\",\"S100A4\",\"S100A6\",\"S100B\",\"SCAMP1\",\"SCAMP2\",\"SCPEP1\",\"SCRN1\",\"SEC23B\",\"SEC61A1\",\"SEL1L\",\"SEPT11\",\"SEPT7\",\"SERPINE1\",\"SERPINH1\",\"SET\",\"SGTA\",\"SH3BGRL\",\"SH3BP4\",\"SIRT2\",\"SLC1A3\",\"SLC1A5\",\"SLC25A6\",\"SLC3A2\",\"SLC7A5\",\"SNCA\",\"SNRPC\",\"SNRPF\",\"SORT1\",\"SOX9\",\"SPAG1\",\"SPAG9\",\"SRI\",\"SRP14\",\"SRP9\",\"STMN1\",\"SUB1\",\"SUMO2\",\"SYNRG\",\"TAGLN\",\"TALDO1\",\"TANC2\",\"TATDN1\",\"TEAD1\",\"TEAD2\",\"TEAD4\",\"TFF3\",\"TGFBI\",\"TGM2\",\"THAP1\",\"THBS1\",\"THY1\",\"TIMM13\",\"TIMP2\",\"TLX1\",\"TMED3\",\"TMEM165\",\"TMSB10\",\"TMSB4X\",\"TNC\",\"TNPO2\",\"TOMM20\",\"TPM1\",\"TPM2\",\"TRAPPC1\",\"TRAPPC2L\",\"TRAPPC3\",\"TRAPPC6A\",\"TRIP10\",\"TUBA4A\",\"TUBB2A\",\"TUBB2B\",\"TUBB4B\",\"TXNDC9\",\"UBQLN4\",\"USF1\",\"USP22\",\"VCAN\",\"VEZT\",\"XPC\",\"XRCC6\",\"YAP1\",\"YWHAB\",\"YWHAE\",\"YWHAG\",\"YWHAQ\",\"YWHAZ\",\"ZDHHC17\",\"ZNF423\"]\n",
    "\n",
    "edges = pathway.get_edges_from_protein_list(proteins)"
   ]
  },
  {
   "cell_type": "code",
   "execution_count": 8,
   "metadata": {},
   "outputs": [
    {
     "data": {
      "text/plain": [
       "EdgeDataView([('LIMK1', 'CFL1', {'activation': -1, 'glycosylation': 0.0, 'methylation': 0.0, 'oriented': 1, 'phosphorylation': 1.0, 'type': 'PPrel', 'ubiquitination': 0.0, 'pathway_id': '04810'})])"
      ]
     },
     "execution_count": 8,
     "metadata": {},
     "output_type": "execute_result"
    }
   ],
   "source": [
    "edges"
   ]
  },
  {
   "cell_type": "code",
   "execution_count": 9,
   "metadata": {},
   "outputs": [
    {
     "data": {
      "text/html": [
       "<div>\n",
       "<style scoped>\n",
       "    .dataframe tbody tr th:only-of-type {\n",
       "        vertical-align: middle;\n",
       "    }\n",
       "\n",
       "    .dataframe tbody tr th {\n",
       "        vertical-align: top;\n",
       "    }\n",
       "\n",
       "    .dataframe thead th {\n",
       "        text-align: right;\n",
       "    }\n",
       "</style>\n",
       "<table border=\"1\" class=\"dataframe\">\n",
       "  <thead>\n",
       "    <tr style=\"text-align: right;\">\n",
       "      <th></th>\n",
       "      <th>activation</th>\n",
       "      <th>glycosylation</th>\n",
       "      <th>methylation</th>\n",
       "      <th>oriented</th>\n",
       "      <th>pathway_id</th>\n",
       "      <th>phosphorylation</th>\n",
       "      <th>source</th>\n",
       "      <th>target</th>\n",
       "      <th>type</th>\n",
       "      <th>ubiquitination</th>\n",
       "    </tr>\n",
       "  </thead>\n",
       "  <tbody>\n",
       "    <tr>\n",
       "      <th>0</th>\n",
       "      <td>-1</td>\n",
       "      <td>0.0</td>\n",
       "      <td>0.0</td>\n",
       "      <td>1</td>\n",
       "      <td>04810</td>\n",
       "      <td>1.0</td>\n",
       "      <td>LIMK1</td>\n",
       "      <td>CFL1</td>\n",
       "      <td>PPrel</td>\n",
       "      <td>0.0</td>\n",
       "    </tr>\n",
       "  </tbody>\n",
       "</table>\n",
       "</div>"
      ],
      "text/plain": [
       "   activation  glycosylation  methylation  oriented pathway_id  \\\n",
       "0          -1            0.0          0.0         1      04810   \n",
       "\n",
       "   phosphorylation source target   type  ubiquitination  \n",
       "0              1.0  LIMK1   CFL1  PPrel             0.0  "
      ]
     },
     "execution_count": 9,
     "metadata": {},
     "output_type": "execute_result"
    }
   ],
   "source": [
    "edges_df = pd.DataFrame([{**{\"source\": source, \"target\": target}, **attr} for source, target, attr in edges])\n",
    "edges_df.sort_values([\"source\", \"target\"], inplace=True)\n",
    "edges_df.head()"
   ]
  },
  {
   "cell_type": "code",
   "execution_count": null,
   "metadata": {},
   "outputs": [],
   "source": []
  }
 ],
 "metadata": {
  "kernelspec": {
   "display_name": "Python 3",
   "language": "python",
   "name": "python3"
  },
  "language_info": {
   "codemirror_mode": {
    "name": "ipython",
    "version": 3
   },
   "file_extension": ".py",
   "mimetype": "text/x-python",
   "name": "python",
   "nbconvert_exporter": "python",
   "pygments_lexer": "ipython3",
   "version": "3.6.5"
  }
 },
 "nbformat": 4,
 "nbformat_minor": 2
}
