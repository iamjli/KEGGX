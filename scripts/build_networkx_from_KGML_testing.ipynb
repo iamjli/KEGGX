{
 "cells": [
  {
   "cell_type": "code",
   "execution_count": 1,
   "metadata": {
    "collapsed": true
   },
   "outputs": [],
   "source": [
    "import pandas as pd\n",
    "import networkx as nx\n",
    "\n",
    "import xml.etree.ElementTree as ET\n",
    "\n",
    "from itertools import combinations"
   ]
  },
  {
   "cell_type": "code",
   "execution_count": 2,
   "metadata": {},
   "outputs": [],
   "source": [
    "pathway = \"hsa00510\"\n",
    "\n",
    "tree = ET.parse(\"../data/human_KGML/{}.xml\".format(pathway))\n",
    "root = tree.getroot()\n",
    "\n",
    "node_elements  = [elem for elem in root.findall(\"entry\") if elem.get(\"type\") != \"group\"] # alternatively `root.findall(\"./entry[@type='group']\")`\n",
    "group_elements = [elem for elem in root.findall(\"entry\") if elem.get(\"type\") == \"group\"]\n",
    "edge_elements  = root.findall(\"relation\")"
   ]
  },
  {
   "cell_type": "code",
   "execution_count": 3,
   "metadata": {},
   "outputs": [
    {
     "data": {
      "text/plain": [
       "{'image': 'http://www.kegg.jp/kegg/pathway/hsa/hsa00510.png',\n",
       " 'link': 'http://www.kegg.jp/kegg-bin/show_pathway?hsa00510',\n",
       " 'name': 'path:hsa00510',\n",
       " 'number': '00510',\n",
       " 'org': 'hsa',\n",
       " 'title': 'N-Glycan biosynthesis'}"
      ]
     },
     "execution_count": 3,
     "metadata": {},
     "output_type": "execute_result"
    }
   ],
   "source": [
    "root.attrib"
   ]
  },
  {
   "cell_type": "code",
   "execution_count": 4,
   "metadata": {
    "collapsed": true
   },
   "outputs": [],
   "source": [
    "def get_node_attributes_from_entry(entry): \n",
    "    \n",
    "    node_attributes = {\n",
    "        \"type\": entry.get(\"type\"), # i.e. 'gene'\n",
    "        \"id\": int(entry.get(\"id\")) # i.e. 84\n",
    "    }\n",
    "    \n",
    "    # If compound node (protein complexes)\n",
    "    if node_attributes[\"type\"] == \"group\": \n",
    "        node_attributes[\"components\"] = [int(x.get(\"id\")) for x in entry.findall(\"component\")]\n",
    "        return node_attributes \n",
    "    else: \n",
    "        node_attributes[\"aliases\"] = entry[0].get(\"name\") # i.e. 'ALDOA, ALDA, GSD12, HEL-S-87p...'\n",
    "        node_attributes[\"hsa_tags\"] = entry.get(\"name\") # i.e. 'hsa:226 hsa:229 hsa:230'\n",
    "        node_attributes[\"first_name\"] = node_attributes[\"aliases\"].split(\", \")[0].split(\"...\")[0] # i.e. 'ALDOA'\n",
    "    \n",
    "    return node_attributes\n",
    "\n",
    "\n",
    "def get_edge_attributes_from_entry(entry):\n",
    "    \n",
    "    edge_attributes = {\n",
    "        \"node1\": int(entry.get(\"entry1\")),\n",
    "        \"node2\": int(entry.get(\"entry2\")),\n",
    "        \"type\": entry.get(\"type\")\n",
    "    }\n",
    "    \n",
    "    for attribute in entry: \n",
    "        \n",
    "        interaction = attribute.get(\"name\")\n",
    "        \n",
    "        if interaction in [\"activation\", \"expression\", \"indirect effect\"]: \n",
    "            edge_attributes[\"sign\"] = 1\n",
    "        elif interaction in [\"inhibition\", \"repression\"]: \n",
    "            edge_attributes[\"sign\"] = -1\n",
    "        elif interaction in [\"binding/association\"]: \n",
    "            edge_attributes[\"sign\"] = 0\n",
    "            \n",
    "        elif interaction == \"phosphorylation\": \n",
    "            edge_attributes[\"phosphorylation\"] = 1\n",
    "        elif interaction == \"dephosphorylation\": \n",
    "            edge_attributes[\"phosphorylation\"] = -1\n",
    "            \n",
    "        elif interaction == \"glycosylation\":\n",
    "            edge_attributes[\"glycosylation\"] = 1\n",
    "            \n",
    "        elif interaction == \"ubiquitination\": \n",
    "            edge_attributes[\"ubiquitination\"] = 1\n",
    "            \n",
    "        elif interaction == \"methylation\": \n",
    "            edge_attributes[\"methylation\"] = 1\n",
    "        \n",
    "        # Force edge through compound node. Unfortunately, these interactions are poorly annotated in KGML.\n",
    "        # These should be of type \"ECrel\", but may be mistakenly annotated as \"PPrel\" in KGMLs.\n",
    "        elif interaction == \"compound\": \n",
    "            edge1 = {\"node1\": edge_attributes[\"node1\"], \"node2\": int(attribute.get(\"value\")), \"type\": \"ECrel\"}\n",
    "            edge2 = {\"node2\": edge_attributes[\"node2\"], \"node2\": int(attribute.get(\"value\")), \"type\": \"ECrel\"}\n",
    "        \n",
    "        else: \n",
    "            print(interaction)\n",
    "            \n",
    "        # Fill in sign for implicit interactions\n",
    "        if len(set(edge_attributes.keys()) & set([\"phosphorylation\", \"glycosylation\", \"ubiquitination\", \"methylation\"])) > 0:\n",
    "            edge_attributes[\"sign\"] = 1\n",
    "            \n",
    "    return edge_attributes\n",
    "\n",
    "\n",
    "def replace_group_edges(edge_attributes_df, group_obj):\n",
    "    \n",
    "    group_id = group_obj[\"id\"] \n",
    "    group_members = group_obj[\"components\"]\n",
    "    n_members = len(group_members)\n",
    "    initial_length = len(edge_attributes_df)\n",
    "    \n",
    "    # Split into two dataframes based on `node1` column\n",
    "    edges_without_df, edges_with_df = [x for _, x in edge_attributes_df.groupby(edge_attributes_df['node1'] == group_id)]\n",
    "    # Duplicate rows where `node1` contains the `group_id`\n",
    "    expanded_edges_df = pd.concat([edges_with_df]*n_members).sort_index() \n",
    "    # Replace `node` column with repeating list of `group_members`\n",
    "    expanded_edges_df[\"node1\"] = group_members*len(edges_with_df)\n",
    "    # Concatenate the new dataframes and reset index\n",
    "    edge_attributes_df = pd.concat([expanded_edges_df, edges_without_df]).reset_index(drop=True)\n",
    "    \n",
    "    # Do the same procedure with `node2` column\n",
    "    edges_without_df, edges_with_df = [x for _, x in edge_attributes_df.groupby(edge_attributes_df['node2'] == group_id)]\n",
    "    expanded_edges_df = pd.concat([edges_with_df]*n_members).sort_index() \n",
    "    expanded_edges_df[\"node2\"] = group_members*len(edges_with_df)\n",
    "    edge_attributes_df = pd.concat([expanded_edges_df, edges_without_df]).reset_index(drop=True)\n",
    "    \n",
    "    # Add edges between group members. `sign` will implicity be assigned 0 to indicate no directionality. \n",
    "    group_rows = [{\"node1\": a, \"node2\": b, \"type\":\"complex\"} for a,b in combinations(group_members, 2)]\n",
    "    edge_attributes_df = edge_attributes_df.append(group_rows, ignore_index=True).fillna(0)\n",
    "    \n",
    "    print(\"{} members in group {}. {} edges added.\".format(n_members, group_id, len(edge_attributes_df)-initial_length))\n",
    "        \n",
    "    return edge_attributes_df"
   ]
  },
  {
   "cell_type": "code",
   "execution_count": 5,
   "metadata": {
    "collapsed": true
   },
   "outputs": [],
   "source": [
    "node_attributes = [get_node_attributes_from_entry(element) for element in node_elements]\n",
    "node_attributes_df = pd.DataFrame(node_attributes).set_index(\"id\")"
   ]
  },
  {
   "cell_type": "code",
   "execution_count": 6,
   "metadata": {},
   "outputs": [
    {
     "data": {
      "text/html": [
       "<div>\n",
       "<table border=\"1\" class=\"dataframe\">\n",
       "  <thead>\n",
       "    <tr style=\"text-align: right;\">\n",
       "      <th></th>\n",
       "      <th>aliases</th>\n",
       "      <th>first_name</th>\n",
       "      <th>hsa_tags</th>\n",
       "      <th>type</th>\n",
       "    </tr>\n",
       "    <tr>\n",
       "      <th>id</th>\n",
       "      <th></th>\n",
       "      <th></th>\n",
       "      <th></th>\n",
       "      <th></th>\n",
       "    </tr>\n",
       "  </thead>\n",
       "  <tbody>\n",
       "    <tr>\n",
       "      <th>38</th>\n",
       "      <td>ALG14, CMS15</td>\n",
       "      <td>ALG14</td>\n",
       "      <td>hsa:199857</td>\n",
       "      <td>gene</td>\n",
       "    </tr>\n",
       "    <tr>\n",
       "      <th>39</th>\n",
       "      <td>DPM3, CDG1O</td>\n",
       "      <td>DPM3</td>\n",
       "      <td>hsa:54344</td>\n",
       "      <td>gene</td>\n",
       "    </tr>\n",
       "    <tr>\n",
       "      <th>40</th>\n",
       "      <td>DPM2, CDG1U</td>\n",
       "      <td>DPM2</td>\n",
       "      <td>hsa:8818</td>\n",
       "      <td>gene</td>\n",
       "    </tr>\n",
       "    <tr>\n",
       "      <th>41</th>\n",
       "      <td>Various types of N-glycan biosynthesis</td>\n",
       "      <td>Various types of N-glycan biosynthesis</td>\n",
       "      <td>path:map00513</td>\n",
       "      <td>map</td>\n",
       "    </tr>\n",
       "    <tr>\n",
       "      <th>42</th>\n",
       "      <td>G10596</td>\n",
       "      <td>G10596</td>\n",
       "      <td>gl:G10596</td>\n",
       "      <td>compound</td>\n",
       "    </tr>\n",
       "  </tbody>\n",
       "</table>\n",
       "</div>"
      ],
      "text/plain": [
       "                                   aliases  \\\n",
       "id                                           \n",
       "38                            ALG14, CMS15   \n",
       "39                             DPM3, CDG1O   \n",
       "40                             DPM2, CDG1U   \n",
       "41  Various types of N-glycan biosynthesis   \n",
       "42                                  G10596   \n",
       "\n",
       "                                first_name       hsa_tags      type  \n",
       "id                                                                   \n",
       "38                                   ALG14     hsa:199857      gene  \n",
       "39                                    DPM3      hsa:54344      gene  \n",
       "40                                    DPM2       hsa:8818      gene  \n",
       "41  Various types of N-glycan biosynthesis  path:map00513       map  \n",
       "42                                  G10596      gl:G10596  compound  "
      ]
     },
     "execution_count": 6,
     "metadata": {},
     "output_type": "execute_result"
    }
   ],
   "source": [
    "node_attributes_df.head()"
   ]
  },
  {
   "cell_type": "code",
   "execution_count": 7,
   "metadata": {},
   "outputs": [
    {
     "data": {
      "text/plain": [
       "[{'components': [100, 39, 40], 'id': 171, 'type': 'group'},\n",
       " {'components': [158, 94], 'id': 172, 'type': 'group'},\n",
       " {'components': [38, 99], 'id': 173, 'type': 'group'}]"
      ]
     },
     "execution_count": 7,
     "metadata": {},
     "output_type": "execute_result"
    }
   ],
   "source": [
    "group_attributes = [get_node_attributes_from_entry(element) for element in group_elements]\n",
    "group_attributes"
   ]
  },
  {
   "cell_type": "code",
   "execution_count": 10,
   "metadata": {},
   "outputs": [
    {
     "data": {
      "text/html": [
       "<div>\n",
       "<table border=\"1\" class=\"dataframe\">\n",
       "  <thead>\n",
       "    <tr style=\"text-align: right;\">\n",
       "      <th></th>\n",
       "    </tr>\n",
       "  </thead>\n",
       "  <tbody>\n",
       "  </tbody>\n",
       "</table>\n",
       "</div>"
      ],
      "text/plain": [
       "Empty DataFrame\n",
       "Columns: []\n",
       "Index: []"
      ]
     },
     "execution_count": 10,
     "metadata": {},
     "output_type": "execute_result"
    }
   ],
   "source": [
    "edge_attributes_df = pd.DataFrame([get_edge_attributes_from_entry(x) for x in edge_elements if x.get(\"type\") in [\"PPrel\", \"CRel\"]])\n",
    "edge_attributes_df.head()"
   ]
  },
  {
   "cell_type": "code",
   "execution_count": 9,
   "metadata": {
    "scrolled": false
   },
   "outputs": [
    {
     "ename": "KeyError",
     "evalue": "'node1'",
     "output_type": "error",
     "traceback": [
      "\u001b[0;31m---------------------------------------------------------------------------\u001b[0m",
      "\u001b[0;31mKeyError\u001b[0m                                  Traceback (most recent call last)",
      "\u001b[0;32m/Users/jonathanli/anaconda/envs/py3k/lib/python3.6/site-packages/pandas/indexes/base.py\u001b[0m in \u001b[0;36mget_loc\u001b[0;34m(self, key, method, tolerance)\u001b[0m\n\u001b[1;32m   2133\u001b[0m             \u001b[0;32mtry\u001b[0m\u001b[0;34m:\u001b[0m\u001b[0;34m\u001b[0m\u001b[0m\n\u001b[0;32m-> 2134\u001b[0;31m                 \u001b[0;32mreturn\u001b[0m \u001b[0mself\u001b[0m\u001b[0;34m.\u001b[0m\u001b[0m_engine\u001b[0m\u001b[0;34m.\u001b[0m\u001b[0mget_loc\u001b[0m\u001b[0;34m(\u001b[0m\u001b[0mkey\u001b[0m\u001b[0;34m)\u001b[0m\u001b[0;34m\u001b[0m\u001b[0m\n\u001b[0m\u001b[1;32m   2135\u001b[0m             \u001b[0;32mexcept\u001b[0m \u001b[0mKeyError\u001b[0m\u001b[0;34m:\u001b[0m\u001b[0;34m\u001b[0m\u001b[0m\n",
      "\u001b[0;32mpandas/index.pyx\u001b[0m in \u001b[0;36mpandas.index.IndexEngine.get_loc (pandas/index.c:4433)\u001b[0;34m()\u001b[0m\n",
      "\u001b[0;32mpandas/index.pyx\u001b[0m in \u001b[0;36mpandas.index.IndexEngine.get_loc (pandas/index.c:4279)\u001b[0;34m()\u001b[0m\n",
      "\u001b[0;32mpandas/src/hashtable_class_helper.pxi\u001b[0m in \u001b[0;36mpandas.hashtable.PyObjectHashTable.get_item (pandas/hashtable.c:13742)\u001b[0;34m()\u001b[0m\n",
      "\u001b[0;32mpandas/src/hashtable_class_helper.pxi\u001b[0m in \u001b[0;36mpandas.hashtable.PyObjectHashTable.get_item (pandas/hashtable.c:13696)\u001b[0;34m()\u001b[0m\n",
      "\u001b[0;31mKeyError\u001b[0m: 'node1'",
      "\nDuring handling of the above exception, another exception occurred:\n",
      "\u001b[0;31mKeyError\u001b[0m                                  Traceback (most recent call last)",
      "\u001b[0;32m<ipython-input-9-054e35640ec9>\u001b[0m in \u001b[0;36m<module>\u001b[0;34m()\u001b[0m\n\u001b[1;32m      1\u001b[0m \u001b[0;31m# Replace group nodes\u001b[0m\u001b[0;34m\u001b[0m\u001b[0;34m\u001b[0m\u001b[0m\n\u001b[1;32m      2\u001b[0m \u001b[0;32mfor\u001b[0m \u001b[0mgroup_attribute\u001b[0m \u001b[0;32min\u001b[0m \u001b[0mgroup_attributes\u001b[0m\u001b[0;34m:\u001b[0m\u001b[0;34m\u001b[0m\u001b[0m\n\u001b[0;32m----> 3\u001b[0;31m     \u001b[0medge_attributes_df\u001b[0m \u001b[0;34m=\u001b[0m \u001b[0mreplace_group_edges\u001b[0m\u001b[0;34m(\u001b[0m\u001b[0medge_attributes_df\u001b[0m\u001b[0;34m,\u001b[0m \u001b[0mgroup_attribute\u001b[0m\u001b[0;34m)\u001b[0m\u001b[0;34m\u001b[0m\u001b[0m\n\u001b[0m",
      "\u001b[0;32m<ipython-input-4-91e217518bf9>\u001b[0m in \u001b[0;36mreplace_group_edges\u001b[0;34m(edge_attributes_df, group_obj)\u001b[0m\n\u001b[1;32m     75\u001b[0m \u001b[0;34m\u001b[0m\u001b[0m\n\u001b[1;32m     76\u001b[0m     \u001b[0;31m# Split into two dataframes based on `node1` column\u001b[0m\u001b[0;34m\u001b[0m\u001b[0;34m\u001b[0m\u001b[0m\n\u001b[0;32m---> 77\u001b[0;31m     \u001b[0medges_without_df\u001b[0m\u001b[0;34m,\u001b[0m \u001b[0medges_with_df\u001b[0m \u001b[0;34m=\u001b[0m \u001b[0;34m[\u001b[0m\u001b[0mx\u001b[0m \u001b[0;32mfor\u001b[0m \u001b[0m_\u001b[0m\u001b[0;34m,\u001b[0m \u001b[0mx\u001b[0m \u001b[0;32min\u001b[0m \u001b[0medge_attributes_df\u001b[0m\u001b[0;34m.\u001b[0m\u001b[0mgroupby\u001b[0m\u001b[0;34m(\u001b[0m\u001b[0medge_attributes_df\u001b[0m\u001b[0;34m[\u001b[0m\u001b[0;34m'node1'\u001b[0m\u001b[0;34m]\u001b[0m \u001b[0;34m==\u001b[0m \u001b[0mgroup_id\u001b[0m\u001b[0;34m)\u001b[0m\u001b[0;34m]\u001b[0m\u001b[0;34m\u001b[0m\u001b[0m\n\u001b[0m\u001b[1;32m     78\u001b[0m     \u001b[0;31m# Duplicate rows where `node1` contains the `group_id`\u001b[0m\u001b[0;34m\u001b[0m\u001b[0;34m\u001b[0m\u001b[0m\n\u001b[1;32m     79\u001b[0m     \u001b[0mexpanded_edges_df\u001b[0m \u001b[0;34m=\u001b[0m \u001b[0mpd\u001b[0m\u001b[0;34m.\u001b[0m\u001b[0mconcat\u001b[0m\u001b[0;34m(\u001b[0m\u001b[0;34m[\u001b[0m\u001b[0medges_with_df\u001b[0m\u001b[0;34m]\u001b[0m\u001b[0;34m*\u001b[0m\u001b[0mn_members\u001b[0m\u001b[0;34m)\u001b[0m\u001b[0;34m.\u001b[0m\u001b[0msort_index\u001b[0m\u001b[0;34m(\u001b[0m\u001b[0;34m)\u001b[0m\u001b[0;34m\u001b[0m\u001b[0m\n",
      "\u001b[0;32m/Users/jonathanli/anaconda/envs/py3k/lib/python3.6/site-packages/pandas/core/frame.py\u001b[0m in \u001b[0;36m__getitem__\u001b[0;34m(self, key)\u001b[0m\n\u001b[1;32m   2057\u001b[0m             \u001b[0;32mreturn\u001b[0m \u001b[0mself\u001b[0m\u001b[0;34m.\u001b[0m\u001b[0m_getitem_multilevel\u001b[0m\u001b[0;34m(\u001b[0m\u001b[0mkey\u001b[0m\u001b[0;34m)\u001b[0m\u001b[0;34m\u001b[0m\u001b[0m\n\u001b[1;32m   2058\u001b[0m         \u001b[0;32melse\u001b[0m\u001b[0;34m:\u001b[0m\u001b[0;34m\u001b[0m\u001b[0m\n\u001b[0;32m-> 2059\u001b[0;31m             \u001b[0;32mreturn\u001b[0m \u001b[0mself\u001b[0m\u001b[0;34m.\u001b[0m\u001b[0m_getitem_column\u001b[0m\u001b[0;34m(\u001b[0m\u001b[0mkey\u001b[0m\u001b[0;34m)\u001b[0m\u001b[0;34m\u001b[0m\u001b[0m\n\u001b[0m\u001b[1;32m   2060\u001b[0m \u001b[0;34m\u001b[0m\u001b[0m\n\u001b[1;32m   2061\u001b[0m     \u001b[0;32mdef\u001b[0m \u001b[0m_getitem_column\u001b[0m\u001b[0;34m(\u001b[0m\u001b[0mself\u001b[0m\u001b[0;34m,\u001b[0m \u001b[0mkey\u001b[0m\u001b[0;34m)\u001b[0m\u001b[0;34m:\u001b[0m\u001b[0;34m\u001b[0m\u001b[0m\n",
      "\u001b[0;32m/Users/jonathanli/anaconda/envs/py3k/lib/python3.6/site-packages/pandas/core/frame.py\u001b[0m in \u001b[0;36m_getitem_column\u001b[0;34m(self, key)\u001b[0m\n\u001b[1;32m   2064\u001b[0m         \u001b[0;31m# get column\u001b[0m\u001b[0;34m\u001b[0m\u001b[0;34m\u001b[0m\u001b[0m\n\u001b[1;32m   2065\u001b[0m         \u001b[0;32mif\u001b[0m \u001b[0mself\u001b[0m\u001b[0;34m.\u001b[0m\u001b[0mcolumns\u001b[0m\u001b[0;34m.\u001b[0m\u001b[0mis_unique\u001b[0m\u001b[0;34m:\u001b[0m\u001b[0;34m\u001b[0m\u001b[0m\n\u001b[0;32m-> 2066\u001b[0;31m             \u001b[0;32mreturn\u001b[0m \u001b[0mself\u001b[0m\u001b[0;34m.\u001b[0m\u001b[0m_get_item_cache\u001b[0m\u001b[0;34m(\u001b[0m\u001b[0mkey\u001b[0m\u001b[0;34m)\u001b[0m\u001b[0;34m\u001b[0m\u001b[0m\n\u001b[0m\u001b[1;32m   2067\u001b[0m \u001b[0;34m\u001b[0m\u001b[0m\n\u001b[1;32m   2068\u001b[0m         \u001b[0;31m# duplicate columns & possible reduce dimensionality\u001b[0m\u001b[0;34m\u001b[0m\u001b[0;34m\u001b[0m\u001b[0m\n",
      "\u001b[0;32m/Users/jonathanli/anaconda/envs/py3k/lib/python3.6/site-packages/pandas/core/generic.py\u001b[0m in \u001b[0;36m_get_item_cache\u001b[0;34m(self, item)\u001b[0m\n\u001b[1;32m   1384\u001b[0m         \u001b[0mres\u001b[0m \u001b[0;34m=\u001b[0m \u001b[0mcache\u001b[0m\u001b[0;34m.\u001b[0m\u001b[0mget\u001b[0m\u001b[0;34m(\u001b[0m\u001b[0mitem\u001b[0m\u001b[0;34m)\u001b[0m\u001b[0;34m\u001b[0m\u001b[0m\n\u001b[1;32m   1385\u001b[0m         \u001b[0;32mif\u001b[0m \u001b[0mres\u001b[0m \u001b[0;32mis\u001b[0m \u001b[0;32mNone\u001b[0m\u001b[0;34m:\u001b[0m\u001b[0;34m\u001b[0m\u001b[0m\n\u001b[0;32m-> 1386\u001b[0;31m             \u001b[0mvalues\u001b[0m \u001b[0;34m=\u001b[0m \u001b[0mself\u001b[0m\u001b[0;34m.\u001b[0m\u001b[0m_data\u001b[0m\u001b[0;34m.\u001b[0m\u001b[0mget\u001b[0m\u001b[0;34m(\u001b[0m\u001b[0mitem\u001b[0m\u001b[0;34m)\u001b[0m\u001b[0;34m\u001b[0m\u001b[0m\n\u001b[0m\u001b[1;32m   1387\u001b[0m             \u001b[0mres\u001b[0m \u001b[0;34m=\u001b[0m \u001b[0mself\u001b[0m\u001b[0;34m.\u001b[0m\u001b[0m_box_item_values\u001b[0m\u001b[0;34m(\u001b[0m\u001b[0mitem\u001b[0m\u001b[0;34m,\u001b[0m \u001b[0mvalues\u001b[0m\u001b[0;34m)\u001b[0m\u001b[0;34m\u001b[0m\u001b[0m\n\u001b[1;32m   1388\u001b[0m             \u001b[0mcache\u001b[0m\u001b[0;34m[\u001b[0m\u001b[0mitem\u001b[0m\u001b[0;34m]\u001b[0m \u001b[0;34m=\u001b[0m \u001b[0mres\u001b[0m\u001b[0;34m\u001b[0m\u001b[0m\n",
      "\u001b[0;32m/Users/jonathanli/anaconda/envs/py3k/lib/python3.6/site-packages/pandas/core/internals.py\u001b[0m in \u001b[0;36mget\u001b[0;34m(self, item, fastpath)\u001b[0m\n\u001b[1;32m   3541\u001b[0m \u001b[0;34m\u001b[0m\u001b[0m\n\u001b[1;32m   3542\u001b[0m             \u001b[0;32mif\u001b[0m \u001b[0;32mnot\u001b[0m \u001b[0misnull\u001b[0m\u001b[0;34m(\u001b[0m\u001b[0mitem\u001b[0m\u001b[0;34m)\u001b[0m\u001b[0;34m:\u001b[0m\u001b[0;34m\u001b[0m\u001b[0m\n\u001b[0;32m-> 3543\u001b[0;31m                 \u001b[0mloc\u001b[0m \u001b[0;34m=\u001b[0m \u001b[0mself\u001b[0m\u001b[0;34m.\u001b[0m\u001b[0mitems\u001b[0m\u001b[0;34m.\u001b[0m\u001b[0mget_loc\u001b[0m\u001b[0;34m(\u001b[0m\u001b[0mitem\u001b[0m\u001b[0;34m)\u001b[0m\u001b[0;34m\u001b[0m\u001b[0m\n\u001b[0m\u001b[1;32m   3544\u001b[0m             \u001b[0;32melse\u001b[0m\u001b[0;34m:\u001b[0m\u001b[0;34m\u001b[0m\u001b[0m\n\u001b[1;32m   3545\u001b[0m                 \u001b[0mindexer\u001b[0m \u001b[0;34m=\u001b[0m \u001b[0mnp\u001b[0m\u001b[0;34m.\u001b[0m\u001b[0marange\u001b[0m\u001b[0;34m(\u001b[0m\u001b[0mlen\u001b[0m\u001b[0;34m(\u001b[0m\u001b[0mself\u001b[0m\u001b[0;34m.\u001b[0m\u001b[0mitems\u001b[0m\u001b[0;34m)\u001b[0m\u001b[0;34m)\u001b[0m\u001b[0;34m[\u001b[0m\u001b[0misnull\u001b[0m\u001b[0;34m(\u001b[0m\u001b[0mself\u001b[0m\u001b[0;34m.\u001b[0m\u001b[0mitems\u001b[0m\u001b[0;34m)\u001b[0m\u001b[0;34m]\u001b[0m\u001b[0;34m\u001b[0m\u001b[0m\n",
      "\u001b[0;32m/Users/jonathanli/anaconda/envs/py3k/lib/python3.6/site-packages/pandas/indexes/base.py\u001b[0m in \u001b[0;36mget_loc\u001b[0;34m(self, key, method, tolerance)\u001b[0m\n\u001b[1;32m   2134\u001b[0m                 \u001b[0;32mreturn\u001b[0m \u001b[0mself\u001b[0m\u001b[0;34m.\u001b[0m\u001b[0m_engine\u001b[0m\u001b[0;34m.\u001b[0m\u001b[0mget_loc\u001b[0m\u001b[0;34m(\u001b[0m\u001b[0mkey\u001b[0m\u001b[0;34m)\u001b[0m\u001b[0;34m\u001b[0m\u001b[0m\n\u001b[1;32m   2135\u001b[0m             \u001b[0;32mexcept\u001b[0m \u001b[0mKeyError\u001b[0m\u001b[0;34m:\u001b[0m\u001b[0;34m\u001b[0m\u001b[0m\n\u001b[0;32m-> 2136\u001b[0;31m                 \u001b[0;32mreturn\u001b[0m \u001b[0mself\u001b[0m\u001b[0;34m.\u001b[0m\u001b[0m_engine\u001b[0m\u001b[0;34m.\u001b[0m\u001b[0mget_loc\u001b[0m\u001b[0;34m(\u001b[0m\u001b[0mself\u001b[0m\u001b[0;34m.\u001b[0m\u001b[0m_maybe_cast_indexer\u001b[0m\u001b[0;34m(\u001b[0m\u001b[0mkey\u001b[0m\u001b[0;34m)\u001b[0m\u001b[0;34m)\u001b[0m\u001b[0;34m\u001b[0m\u001b[0m\n\u001b[0m\u001b[1;32m   2137\u001b[0m \u001b[0;34m\u001b[0m\u001b[0m\n\u001b[1;32m   2138\u001b[0m         \u001b[0mindexer\u001b[0m \u001b[0;34m=\u001b[0m \u001b[0mself\u001b[0m\u001b[0;34m.\u001b[0m\u001b[0mget_indexer\u001b[0m\u001b[0;34m(\u001b[0m\u001b[0;34m[\u001b[0m\u001b[0mkey\u001b[0m\u001b[0;34m]\u001b[0m\u001b[0;34m,\u001b[0m \u001b[0mmethod\u001b[0m\u001b[0;34m=\u001b[0m\u001b[0mmethod\u001b[0m\u001b[0;34m,\u001b[0m \u001b[0mtolerance\u001b[0m\u001b[0;34m=\u001b[0m\u001b[0mtolerance\u001b[0m\u001b[0;34m)\u001b[0m\u001b[0;34m\u001b[0m\u001b[0m\n",
      "\u001b[0;32mpandas/index.pyx\u001b[0m in \u001b[0;36mpandas.index.IndexEngine.get_loc (pandas/index.c:4433)\u001b[0;34m()\u001b[0m\n",
      "\u001b[0;32mpandas/index.pyx\u001b[0m in \u001b[0;36mpandas.index.IndexEngine.get_loc (pandas/index.c:4279)\u001b[0;34m()\u001b[0m\n",
      "\u001b[0;32mpandas/src/hashtable_class_helper.pxi\u001b[0m in \u001b[0;36mpandas.hashtable.PyObjectHashTable.get_item (pandas/hashtable.c:13742)\u001b[0;34m()\u001b[0m\n",
      "\u001b[0;32mpandas/src/hashtable_class_helper.pxi\u001b[0m in \u001b[0;36mpandas.hashtable.PyObjectHashTable.get_item (pandas/hashtable.c:13696)\u001b[0;34m()\u001b[0m\n",
      "\u001b[0;31mKeyError\u001b[0m: 'node1'"
     ]
    }
   ],
   "source": [
    "# Replace group nodes\n",
    "for group_attribute in group_attributes: \n",
    "    edge_attributes_df = replace_group_edges(edge_attributes_df, group_attribute)"
   ]
  },
  {
   "cell_type": "code",
   "execution_count": 12,
   "metadata": {},
   "outputs": [
    {
     "data": {
      "text/plain": [
       "<networkx.classes.graph.Graph at 0x1122f2518>"
      ]
     },
     "execution_count": 12,
     "metadata": {},
     "output_type": "execute_result"
    }
   ],
   "source": [
    "# Create directed networkx graph\n",
    "G_dir = nx.DiGraph()\n",
    "G_dir.add_nodes_from([(key, dic) for key, dic in node_attributes_df.to_dict(\"index\").items()])\n",
    "G_dir.add_edges_from([(row[\"node1\"], row[\"node2\"], row[edge_attributes_df.columns[2:]].to_dict()) for _,row in edge_attributes_df.iterrows()])\n",
    "nx.relabel_nodes(G_dir, {node_id:G_dir.node[node_id][\"first_name\"] for node_id in G_dir.nodes()}, copy=False)\n",
    "\n",
    "# Create undirected networkx graph. Useful for finding interactions with ambiguous direction\n",
    "G_und = nx.Graph()\n",
    "G_und.add_nodes_from([(key, dic) for key, dic in node_attributes_df.to_dict(\"index\").items()])\n",
    "G_und.add_edges_from([(row[\"node1\"], row[\"node2\"], row[edge_attributes_df.columns[2:]].to_dict()) for _,row in edge_attributes_df.iterrows()])\n",
    "nx.relabel_nodes(G_und, {node_id:G_und.node[node_id][\"first_name\"] for node_id in G_und.nodes()}, copy=False)"
   ]
  },
  {
   "cell_type": "code",
   "execution_count": 18,
   "metadata": {
    "collapsed": true
   },
   "outputs": [],
   "source": [
    "def get_KEGG_interactors(protein, G_directed, G_undirected):\n",
    "    \n",
    "    if protein not in G_directed: return {}\n",
    "    \n",
    "    direct_interactions = G_directed[protein]\n",
    "    ambiguous_interactions = {node: attr for node, attr in G_undirected[protein].items() if attr[\"sign\"] == 0}\n",
    "    \n",
    "    return {**direct_interactions, **ambiguous_interactions}"
   ]
  },
  {
   "cell_type": "code",
   "execution_count": 20,
   "metadata": {},
   "outputs": [
    {
     "data": {
      "text/plain": [
       "{'MYL12B': {'phosphorylation': -1.0, 'sign': 1.0, 'type': 'PPrel'}}"
      ]
     },
     "execution_count": 20,
     "metadata": {},
     "output_type": "execute_result"
    }
   ],
   "source": [
    "get_KEGG_interactors(\"PPP1R12A\", G_dir, G_und)"
   ]
  },
  {
   "cell_type": "code",
   "execution_count": null,
   "metadata": {
    "collapsed": true
   },
   "outputs": [],
   "source": []
  }
 ],
 "metadata": {
  "kernelspec": {
   "display_name": "Python 3",
   "language": "python",
   "name": "python3"
  },
  "language_info": {
   "codemirror_mode": {
    "name": "ipython",
    "version": 3
   },
   "file_extension": ".py",
   "mimetype": "text/x-python",
   "name": "python",
   "nbconvert_exporter": "python",
   "pygments_lexer": "ipython3",
   "version": "3.6.5"
  }
 },
 "nbformat": 4,
 "nbformat_minor": 1
}
