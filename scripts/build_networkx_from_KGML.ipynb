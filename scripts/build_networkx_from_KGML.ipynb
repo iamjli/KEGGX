{
 "cells": [
  {
   "cell_type": "code",
   "execution_count": 1,
   "metadata": {
    "collapsed": true
   },
   "outputs": [],
   "source": [
    "import pandas as pd\n",
    "import networkx as nx\n",
    "\n",
    "import xml.etree.ElementTree as ET\n",
    "\n",
    "from itertools import combinations"
   ]
  },
  {
   "cell_type": "code",
   "execution_count": 2,
   "metadata": {
    "collapsed": true
   },
   "outputs": [],
   "source": [
    "pathway = \"hsa04810\"\n",
    "\n",
    "tree = ET.parse(\"../data/{}.xml\".format(pathway))\n",
    "root = tree.getroot()\n",
    "\n",
    "node_elements  = [elem for elem in root.findall(\"entry\") if elem.get(\"type\") != \"group\"] # alternatively `root.findall(\"./entry[@type='group']\")`\n",
    "group_elements = [elem for elem in root.findall(\"entry\") if elem.get(\"type\") == \"group\"]\n",
    "edge_elements  = root.findall(\"relation\")"
   ]
  },
  {
   "cell_type": "code",
   "execution_count": 3,
   "metadata": {
    "collapsed": true
   },
   "outputs": [],
   "source": [
    "def get_node_attributes_from_entry(entry): \n",
    "    \n",
    "    node_attributes = {\n",
    "        \"type\": entry.get(\"type\"), # i.e. 'gene'\n",
    "        \"id\": int(entry.get(\"id\")) # i.e. 84\n",
    "    }\n",
    "    \n",
    "    # If compound node (protein complexes)\n",
    "    if node_attributes[\"type\"] == \"group\": \n",
    "        node_attributes[\"components\"] = [int(x.get(\"id\")) for x in entry.findall(\"component\")]\n",
    "        return node_attributes \n",
    "    else: \n",
    "        node_attributes[\"aliases\"] = entry[0].get(\"name\") # i.e. 'ALDOA, ALDA, GSD12, HEL-S-87p...'\n",
    "        node_attributes[\"hsa_tags\"] = entry.get(\"name\") # i.e. 'hsa:226 hsa:229 hsa:230'\n",
    "        node_attributes[\"first_name\"] = node_attributes[\"aliases\"].split(\", \")[0].split(\"...\")[0] # i.e. 'ALDOA'\n",
    "    \n",
    "    return node_attributes\n",
    "\n",
    "\n",
    "def get_edge_attributes_from_entry(entry):\n",
    "    \n",
    "    edge_attributes = {\n",
    "        \"node1\": int(entry.get(\"entry1\")),\n",
    "        \"node2\": int(entry.get(\"entry2\")),\n",
    "        \"type\": entry.get(\"type\")\n",
    "    }\n",
    "    \n",
    "    for attribute in entry: \n",
    "        \n",
    "        interaction = attribute.get(\"name\")\n",
    "        \n",
    "        if interaction in [\"activation\", \"expression\", \"indirect effect\"]: \n",
    "            edge_attributes[\"sign\"] = 1\n",
    "        elif interaction in [\"inhibition\", \"repression\"]: \n",
    "            edge_attributes[\"sign\"] = -1\n",
    "        elif interaction in [\"binding/association\"]: \n",
    "            edge_attributes[\"sign\"] = 0\n",
    "            \n",
    "        elif interaction == \"phosphorylation\": \n",
    "            edge_attributes[\"phosphorylation\"] = 1\n",
    "        elif interaction == \"dephosphorylation\": \n",
    "            edge_attributes[\"phosphorylation\"] = -1\n",
    "            \n",
    "        elif interaction == \"glycosylation\":\n",
    "            edge_attributes[\"glycosylation\"] = 1\n",
    "            \n",
    "        elif interaction == \"ubiquitination\": \n",
    "            edge_attributes[\"ubiquitination\"] = 1\n",
    "            \n",
    "        elif interaction == \"methylation\": \n",
    "            edge_attributes[\"methylation\"] = 1\n",
    "        \n",
    "        # Force edge through compound node. Unfortunately, these interactions are poorly annotated in KGML.\n",
    "        # These should be of type \"ECrel\", but may be mistakenly annotated as \"PPrel\" in KGMLs.\n",
    "        elif interaction == \"compound\": \n",
    "            edge1 = {\"node1\": edge_attributes[\"node1\"], \"node2\": int(attribute.get(\"value\")), \"type\": \"ECrel\"}\n",
    "            edge2 = {\"node2\": edge_attributes[\"node2\"], \"node2\": int(attribute.get(\"value\")), \"type\": \"ECrel\"}\n",
    "        \n",
    "        else: \n",
    "            print(interaction)\n",
    "            \n",
    "        # Fill in sign for implicit interactions\n",
    "        if len(set(edge_attributes.keys()) & set([\"phosphorylation\", \"glycosylation\", \"ubiquitination\", \"methylation\"])) > 0:\n",
    "            edge_attributes[\"sign\"] = 1\n",
    "            \n",
    "    return edge_attributes\n",
    "\n",
    "\n",
    "def replace_group_edges(edge_attributes_df, group_obj):\n",
    "    \n",
    "    group_id = group_obj[\"id\"] \n",
    "    group_members = group_obj[\"components\"]\n",
    "    n_members = len(group_members)\n",
    "    initial_length = len(edge_attributes_df)\n",
    "    \n",
    "    # Split into two dataframes based on `node1` column\n",
    "    edges_without_df, edges_with_df = [x for _, x in edge_attributes_df.groupby(edge_attributes_df['node1'] == group_id)]\n",
    "    # Duplicate rows where `node1` contains the `group_id`\n",
    "    expanded_edges_df = pd.concat([edges_with_df]*n_members).sort_index() \n",
    "    # Replace `node` column with repeating list of `group_members`\n",
    "    expanded_edges_df[\"node1\"] = group_members*len(edges_with_df)\n",
    "    # Concatenate the new dataframes and reset index\n",
    "    edge_attributes_df = pd.concat([expanded_edges_df, edges_without_df]).reset_index(drop=True)\n",
    "    \n",
    "    # Do the same procedure with `node2` column\n",
    "    edges_without_df, edges_with_df = [x for _, x in edge_attributes_df.groupby(edge_attributes_df['node2'] == group_id)]\n",
    "    expanded_edges_df = pd.concat([edges_with_df]*n_members).sort_index() \n",
    "    expanded_edges_df[\"node2\"] = group_members*len(edges_with_df)\n",
    "    edge_attributes_df = pd.concat([expanded_edges_df, edges_without_df]).reset_index(drop=True)\n",
    "    \n",
    "    # Add edges between group members. `sign` will implicity be assigned 0 to indicate no directionality. \n",
    "    group_rows = [{\"node1\": a, \"node2\": b, \"type\":\"complex\"} for a,b in combinations(group_members, 2)]\n",
    "    edge_attributes_df = edge_attributes_df.append(group_rows, ignore_index=True).fillna(0)\n",
    "    \n",
    "    print(\"{} members in group {}. {} edges added.\".format(n_members, group_id, len(edge_attributes_df)-initial_length))\n",
    "        \n",
    "    return edge_attributes_df"
   ]
  },
  {
   "cell_type": "code",
   "execution_count": 4,
   "metadata": {
    "collapsed": true
   },
   "outputs": [],
   "source": [
    "# Should probably separate out complexes (i.e. `groups`)\n",
    "node_attributes = [get_node_attributes_from_entry(element) for element in node_elements]\n",
    "node_attributes_df = pd.DataFrame(node_attributes).set_index(\"id\")"
   ]
  },
  {
   "cell_type": "code",
   "execution_count": 5,
   "metadata": {},
   "outputs": [
    {
     "data": {
      "text/html": [
       "<div>\n",
       "<table border=\"1\" class=\"dataframe\">\n",
       "  <thead>\n",
       "    <tr style=\"text-align: right;\">\n",
       "      <th></th>\n",
       "      <th>aliases</th>\n",
       "      <th>first_name</th>\n",
       "      <th>hsa_tags</th>\n",
       "      <th>type</th>\n",
       "    </tr>\n",
       "    <tr>\n",
       "      <th>id</th>\n",
       "      <th></th>\n",
       "      <th></th>\n",
       "      <th></th>\n",
       "      <th></th>\n",
       "    </tr>\n",
       "  </thead>\n",
       "  <tbody>\n",
       "    <tr>\n",
       "      <th>1</th>\n",
       "      <td>F2, PT, RPRGL2, THPH1</td>\n",
       "      <td>F2</td>\n",
       "      <td>hsa:2147</td>\n",
       "      <td>gene</td>\n",
       "    </tr>\n",
       "    <tr>\n",
       "      <th>2</th>\n",
       "      <td>C04637...</td>\n",
       "      <td>C04637</td>\n",
       "      <td>cpd:C04637 cpd:C11554</td>\n",
       "      <td>compound</td>\n",
       "    </tr>\n",
       "    <tr>\n",
       "      <th>3</th>\n",
       "      <td>C04637...</td>\n",
       "      <td>C04637</td>\n",
       "      <td>cpd:C04637 cpd:C11554</td>\n",
       "      <td>compound</td>\n",
       "    </tr>\n",
       "    <tr>\n",
       "      <th>4</th>\n",
       "      <td>C05981</td>\n",
       "      <td>C05981</td>\n",
       "      <td>cpd:C05981</td>\n",
       "      <td>compound</td>\n",
       "    </tr>\n",
       "    <tr>\n",
       "      <th>5</th>\n",
       "      <td>C00306</td>\n",
       "      <td>C00306</td>\n",
       "      <td>cpd:C00306</td>\n",
       "      <td>compound</td>\n",
       "    </tr>\n",
       "  </tbody>\n",
       "</table>\n",
       "</div>"
      ],
      "text/plain": [
       "                  aliases first_name               hsa_tags      type\n",
       "id                                                                   \n",
       "1   F2, PT, RPRGL2, THPH1         F2               hsa:2147      gene\n",
       "2               C04637...     C04637  cpd:C04637 cpd:C11554  compound\n",
       "3               C04637...     C04637  cpd:C04637 cpd:C11554  compound\n",
       "4                  C05981     C05981             cpd:C05981  compound\n",
       "5                  C00306     C00306             cpd:C00306  compound"
      ]
     },
     "execution_count": 5,
     "metadata": {},
     "output_type": "execute_result"
    }
   ],
   "source": [
    "node_attributes_df.head()"
   ]
  },
  {
   "cell_type": "code",
   "execution_count": 6,
   "metadata": {},
   "outputs": [
    {
     "data": {
      "text/plain": [
       "[{'components': [59, 60, 61], 'id': 84, 'type': 'group'},\n",
       " {'components': [11, 12], 'id': 85, 'type': 'group'},\n",
       " {'components': [16, 17, 18], 'id': 86, 'type': 'group'}]"
      ]
     },
     "execution_count": 6,
     "metadata": {},
     "output_type": "execute_result"
    }
   ],
   "source": [
    "group_attributes = [get_node_attributes_from_entry(element) for element in group_elements]\n",
    "group_attributes"
   ]
  },
  {
   "cell_type": "code",
   "execution_count": 7,
   "metadata": {},
   "outputs": [],
   "source": [
    "edge_attributes_df = pd.DataFrame([get_edge_attributes_from_entry(x) for x in edge_elements if x.get(\"type\") in [\"PPrel\", \"CRel\"]])\n",
    "# edge_attributes_df.head(20)"
   ]
  },
  {
   "cell_type": "code",
   "execution_count": 8,
   "metadata": {
    "scrolled": false
   },
   "outputs": [
    {
     "name": "stdout",
     "output_type": "stream",
     "text": [
      "3 members in group 84. 7 edges added.\n",
      "2 members in group 85. 3 edges added.\n",
      "3 members in group 86. 9 edges added.\n"
     ]
    }
   ],
   "source": [
    "# Replace group nodes\n",
    "for group_attribute in group_attributes: \n",
    "    edge_attributes_df = replace_group_edges(edge_attributes_df, group_attribute)"
   ]
  },
  {
   "cell_type": "code",
   "execution_count": 12,
   "metadata": {},
   "outputs": [
    {
     "data": {
      "text/plain": [
       "<networkx.classes.graph.Graph at 0x1122f2518>"
      ]
     },
     "execution_count": 12,
     "metadata": {},
     "output_type": "execute_result"
    }
   ],
   "source": [
    "# Create directed networkx graph\n",
    "G_dir = nx.DiGraph()\n",
    "G_dir.add_nodes_from([(key, dic) for key, dic in node_attributes_df.to_dict(\"index\").items()])\n",
    "G_dir.add_edges_from([(row[\"node1\"], row[\"node2\"], row[edge_attributes_df.columns[2:]].to_dict()) for _,row in edge_attributes_df.iterrows()])\n",
    "nx.relabel_nodes(G_dir, {node_id:G_dir.node[node_id][\"first_name\"] for node_id in G_dir.nodes()}, copy=False)\n",
    "\n",
    "# Create undirected networkx graph. Useful for finding interactions with ambiguous direction\n",
    "G_und = nx.Graph()\n",
    "G_und.add_nodes_from([(key, dic) for key, dic in node_attributes_df.to_dict(\"index\").items()])\n",
    "G_und.add_edges_from([(row[\"node1\"], row[\"node2\"], row[edge_attributes_df.columns[2:]].to_dict()) for _,row in edge_attributes_df.iterrows()])\n",
    "nx.relabel_nodes(G_und, {node_id:G_und.node[node_id][\"first_name\"] for node_id in G_und.nodes()}, copy=False)"
   ]
  },
  {
   "cell_type": "code",
   "execution_count": 18,
   "metadata": {
    "collapsed": true
   },
   "outputs": [],
   "source": [
    "def get_KEGG_interactors(protein, G_directed, G_undirected):\n",
    "    \n",
    "    if protein not in G_directed: return {}\n",
    "    \n",
    "    direct_interactions = G_directed[protein]\n",
    "    ambiguous_interactions = {node: attr for node, attr in G_undirected[protein].items() if attr[\"sign\"] == 0}\n",
    "    \n",
    "    return {**direct_interactions, **ambiguous_interactions}"
   ]
  },
  {
   "cell_type": "code",
   "execution_count": 20,
   "metadata": {},
   "outputs": [
    {
     "data": {
      "text/plain": [
       "{'MYL12B': {'phosphorylation': -1.0, 'sign': 1.0, 'type': 'PPrel'}}"
      ]
     },
     "execution_count": 20,
     "metadata": {},
     "output_type": "execute_result"
    }
   ],
   "source": [
    "get_KEGG_interactors(\"PPP1R12A\", G_dir, G_und)"
   ]
  },
  {
   "cell_type": "code",
   "execution_count": null,
   "metadata": {
    "collapsed": true
   },
   "outputs": [],
   "source": []
  }
 ],
 "metadata": {
  "kernelspec": {
   "display_name": "Python 3",
   "language": "python",
   "name": "python3"
  },
  "language_info": {
   "codemirror_mode": {
    "name": "ipython",
    "version": 3
   },
   "file_extension": ".py",
   "mimetype": "text/x-python",
   "name": "python",
   "nbconvert_exporter": "python",
   "pygments_lexer": "ipython3",
   "version": "3.6.0"
  }
 },
 "nbformat": 4,
 "nbformat_minor": 1
}
